{
 "cells": [
  {
   "cell_type": "code",
   "execution_count": 1,
   "metadata": {},
   "outputs": [],
   "source": [
    "import pandas as pd\n",
    "import numpy as np\n",
    "from vaderSentiment.vaderSentiment import SentimentIntensityAnalyzer\n",
    "import json\n",
    "import ast"
   ]
  },
  {
   "cell_type": "code",
   "execution_count": null,
   "metadata": {},
   "outputs": [],
   "source": [
    "import pandas as pd\n",
    "from vaderSentiment.vaderSentiment import SentimentIntensityAnalyzer\n",
    "from tqdm import tqdm\n",
    "\n",
    "def process_sentiments(input_file, output_path):\n",
    "    try:\n",
    "        print(f\"Reading file: {input_file}\")\n",
    "        df = pd.read_csv(input_file)\n",
    "        \n",
    "        analyzer = SentimentIntensityAnalyzer()\n",
    "        \n",
    "        sentiments = []\n",
    "        \n",
    "        for text in tqdm(df['processed_text'], desc=\"Processing reviews\"):\n",
    "            scores = analyzer.polarity_scores(str(text))\n",
    "            \n",
    "            if scores['compound'] >= 0.05:\n",
    "                sentiment = 'positive'\n",
    "            elif scores['compound'] <= -0.05:\n",
    "                sentiment = 'negative'\n",
    "            else:\n",
    "                sentiment = 'neutral'\n",
    "            \n",
    "            sentiments.append(sentiment)\n",
    "        \n",
    "        df['sentiment'] = sentiments\n",
    "        \n",
    "        print(\"\\nSentiment Distribution:\")\n",
    "        sentiment_dist = df['sentiment'].value_counts()\n",
    "        total_reviews = len(df)\n",
    "        for category, count in sentiment_dist.items():\n",
    "            percentage = (count / total_reviews) * 100\n",
    "            print(f\"{category}: {count} reviews ({percentage:.1f}%)\")\n",
    "        \n",
    "        print(f\"\\nSaving results to: {output_path}\")\n",
    "        df.to_csv(output_path, index=False)\n",
    "        \n",
    "        return df\n",
    "        \n",
    "    except FileNotFoundError:\n",
    "        print(f\"Error: Could not find the file at {input_file}\")\n",
    "        return None\n",
    "    except Exception as e:\n",
    "        print(f\"An error occurred: {str(e)}\")\n",
    "        return None"
   ]
  },
  {
   "cell_type": "code",
   "execution_count": 7,
   "metadata": {},
   "outputs": [
    {
     "name": "stdout",
     "output_type": "stream",
     "text": [
      "Reading file: ../data/processed/merged_reviews_metadata_final.csv\n",
      "Analyzing sentiments...\n"
     ]
    },
    {
     "name": "stderr",
     "output_type": "stream",
     "text": [
      "Processing reviews: 100%|██████████| 4966/4966 [00:03<00:00, 1283.29it/s]\n"
     ]
    },
    {
     "name": "stdout",
     "output_type": "stream",
     "text": [
      "\n",
      "Sentiment Distribution:\n",
      "positive: 4131 reviews (83.2%)\n",
      "negative: 505 reviews (10.2%)\n",
      "neutral: 330 reviews (6.6%)\n",
      "\n",
      "Saving results to: ../data/processed/sentitiment_analysis_reviews_w_metadata.csv\n"
     ]
    }
   ],
   "source": [
    "input_path = \"../data/processed/merged_reviews_metadata_final.csv\"\n",
    "output_path = \"../data/processed/sentitiment_analysis_reviews_w_metadata.csv\"\n",
    "\n",
    "df = process_sentiments(input_path, output_path)"
   ]
  }
 ],
 "metadata": {
  "kernelspec": {
   "display_name": "base",
   "language": "python",
   "name": "python3"
  },
  "language_info": {
   "codemirror_mode": {
    "name": "ipython",
    "version": 3
   },
   "file_extension": ".py",
   "mimetype": "text/x-python",
   "name": "python",
   "nbconvert_exporter": "python",
   "pygments_lexer": "ipython3",
   "version": "3.10.9"
  }
 },
 "nbformat": 4,
 "nbformat_minor": 2
}
