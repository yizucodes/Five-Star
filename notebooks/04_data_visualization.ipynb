{
 "cells": [
  {
   "cell_type": "markdown",
   "metadata": {},
   "source": [
    "queries to run\n",
    "-overall sentitiment analysis\n",
    "-categories (preprocessing) with positive, neutral, and negative percentile"
   ]
  },
  {
   "cell_type": "code",
   "execution_count": 1,
   "metadata": {},
   "outputs": [],
   "source": [
    "import pandas as pd\n",
    "import matplotlib.pyplot as plt\n",
    "import os\n",
    "\n",
    "\n",
    "def plot_sentiment_distribution(input_file, output_file):\n",
    "    os.makedirs(os.path.dirname(output_file), exist_ok=True)\n",
    "    \n",
    "    df = pd.read_csv(input_file)\n",
    "    sentiment_counts = df['sentiment'].value_counts()\n",
    "    total = len(df)\n",
    "    percentages = [count/total*100 for count in sentiment_counts]\n",
    "    labels = [f'{sentiment}\\n({percentage:.1f}%)' \n",
    "             for sentiment, percentage in zip(sentiment_counts.index, percentages)]\n",
    "    \n",
    "    colors = ['#3498db', '#9b59b6', '#1abc9c']\n",
    "\n",
    "    plt.figure(figsize=(8, 6))\n",
    "    plt.pie(sentiment_counts,\n",
    "           labels=labels,\n",
    "           colors=colors,\n",
    "           autopct='',\n",
    "           startangle=90)\n",
    "    \n",
    "    plt.title('Overall Sentiment Distribution of Reviews for Electronic Products', pad=20)\n",
    "    plt.axis('equal')\n",
    "    plt.text(0, -1.2, f'Total Reviews: {total:,}', \n",
    "             ha='center', va='center')\n",
    "    \n",
    "    plt.savefig(output_file, format='png', bbox_inches='tight', dpi=300)\n",
    "    plt.close()\n",
    "    \n",
    "    print(f\"\\nPlot saved: {output_file}\")"
   ]
  },
  {
   "cell_type": "code",
   "execution_count": 2,
   "metadata": {},
   "outputs": [
    {
     "name": "stdout",
     "output_type": "stream",
     "text": [
      "\n",
      "Plot saved: ../data/visuals/overall_sentiment_analysis.png\n"
     ]
    }
   ],
   "source": [
    "input_path = \"../data/processed/final_sentiment_analysis_data.csv\"\n",
    "output_path = \"../data/visuals/overall_sentiment_analysis.png\"\n",
    "\n",
    "plot_sentiment_distribution(input_path, output_path)"
   ]
  },
  {
   "cell_type": "code",
   "execution_count": 3,
   "metadata": {},
   "outputs": [],
   "source": [
    "def plot_sentiment_by_rating(input_file, output_file):\n",
    "    try:\n",
    "        full_output_path = os.path.abspath(output_file)\n",
    "        os.makedirs(os.path.dirname(full_output_path), exist_ok=True)\n",
    "        \n",
    "        df = pd.read_csv(input_file)\n",
    "        ratings = sorted(df['overall'].unique())\n",
    "        \n",
    "        sentiments = ['positive', 'negative', 'neutral']\n",
    "        colors = ['#3498db', '#9b59b6', '#1abc9c']\n",
    "        \n",
    "        plt.figure(figsize=(10, 6))\n",
    "        bar_width = 0.25\n",
    "        \n",
    "        for idx, sentiment in enumerate(sentiments):\n",
    "            counts = [len(df[(df['overall'] == rating) & (df['sentiment'] == sentiment)]) for rating in ratings]\n",
    "            plt.bar([x + idx*bar_width for x in range(len(ratings))], counts, bar_width, \n",
    "                    label=sentiment, color=colors[idx])\n",
    "        \n",
    "        plt.title('Sentiment Distribution by Rating for Electronic Products', pad=20)\n",
    "        plt.xlabel('Rating Score')\n",
    "        plt.ylabel('Number of Reviews')\n",
    "        plt.legend()\n",
    "        \n",
    "        plt.xticks([x + bar_width for x in range(len(ratings))], ratings)\n",
    "        \n",
    "        plt.savefig(full_output_path, dpi=300, bbox_inches='tight')\n",
    "        plt.close()\n",
    "        \n",
    "        if os.path.exists(full_output_path):\n",
    "            print(f\"Plot successfully saved to: {full_output_path}\")\n",
    "        else:\n",
    "            print(\"Failed to save the plot\")\n",
    "            \n",
    "    except Exception as e:\n",
    "        print(f\"Error occurred: {str(e)}\")"
   ]
  },
  {
   "cell_type": "code",
   "execution_count": 4,
   "metadata": {},
   "outputs": [
    {
     "name": "stdout",
     "output_type": "stream",
     "text": [
      "Plot successfully saved to: /Users/yizu/Desktop/Five-Star/data/visuals/sentiment_by_rating.png\n"
     ]
    }
   ],
   "source": [
    "input_path = \"../data/processed/final_sentiment_analysis_data.csv\"\n",
    "output_path = \"../data/visuals/sentiment_by_rating.png\"\n",
    "plot_sentiment_by_rating(input_path, output_path)"
   ]
  },
  {
   "cell_type": "code",
   "execution_count": 5,
   "metadata": {},
   "outputs": [],
   "source": [
    "def plot_average_rating_by_sentiment(input_file, output_file):\n",
    "    try:\n",
    "        full_output_path = os.path.abspath(output_file)\n",
    "        os.makedirs(os.path.dirname(full_output_path), exist_ok=True)\n",
    "        \n",
    "        df = pd.read_csv(input_file)\n",
    "        avg_rating = df.groupby('sentiment')['overall'].mean()\n",
    "        \n",
    "        plt.figure(figsize=(8, 6))\n",
    "        avg_rating.plot(kind='bar', color=['#3498db', '#9b59b6', '#1abc9c'])\n",
    "        \n",
    "        plt.title('Average Rating by Sentiment for Electronic Products', pad=20)\n",
    "        plt.xlabel('Sentiment')\n",
    "        plt.ylabel('Average Rating')\n",
    "        \n",
    "        plt.savefig(full_output_path, dpi=300, bbox_inches='tight')\n",
    "        plt.close()\n",
    "        \n",
    "        if os.path.exists(full_output_path):\n",
    "            print(f\"Plot successfully saved to: {full_output_path}\")\n",
    "        else:\n",
    "            print(\"Failed to save the plot\")\n",
    "            \n",
    "    except Exception as e:\n",
    "        print(f\"Error occurred: {str(e)}\")"
   ]
  },
  {
   "cell_type": "code",
   "execution_count": 6,
   "metadata": {},
   "outputs": [
    {
     "name": "stdout",
     "output_type": "stream",
     "text": [
      "Plot successfully saved to: /Users/yizu/Desktop/Five-Star/data/visuals/average_rating_by_sentiment.png\n"
     ]
    }
   ],
   "source": [
    "input_path = \"../data/processed/final_sentiment_analysis_data.csv\"\n",
    "output_path = \"../data/visuals/average_rating_by_sentiment.png\"\n",
    "plot_average_rating_by_sentiment(input_path, output_path)"
   ]
  },
  {
   "cell_type": "code",
   "execution_count": 7,
   "metadata": {},
   "outputs": [],
   "source": [
    "def analyze_sentiment_by_category(input_file, output_file):\n",
    "    try:\n",
    "        full_output_path = os.path.abspath(output_file)\n",
    "        os.makedirs(os.path.dirname(full_output_path), exist_ok=True)\n",
    "        \n",
    "        df = pd.read_csv(input_file)\n",
    "        \n",
    "        def extract_second_category(category_string):\n",
    "            if pd.isna(category_string):\n",
    "                return 'Unknown'\n",
    "            categories = str(category_string).split('|')\n",
    "            return categories[1] if len(categories) > 1 else 'Unknown'\n",
    "        \n",
    "        df['main_category'] = df['category'].apply(extract_second_category)\n",
    "        \n",
    "        category_sentiment = pd.crosstab(df['main_category'], df['sentiment'], normalize='index') * 100\n",
    "        \n",
    "        plt.figure(figsize=(12, 6))\n",
    "        category_sentiment.plot(kind='bar', stacked=True, color=['#3498db', '#9b59b6', '#1abc9c'])\n",
    "        \n",
    "        plt.title('Sentiment Distribution by Product Category (%)', pad=20)\n",
    "        plt.xlabel('Product Category')\n",
    "        plt.ylabel('Percentage of Reviews')\n",
    "        plt.legend(title='Sentiment')\n",
    "        plt.xticks(rotation=45, ha='right')\n",
    "        plt.grid(True, linestyle='--', alpha=0.7)\n",
    "        \n",
    "        plt.tight_layout()\n",
    "        plt.savefig(full_output_path, dpi=300, bbox_inches='tight')\n",
    "        plt.close()\n",
    "        \n",
    "        if os.path.exists(full_output_path):\n",
    "            print(f\"Plot saved: {full_output_path}\")\n",
    "            \n",
    "    except Exception as e:\n",
    "        print(f\"Error occurred: {str(e)}\")"
   ]
  },
  {
   "cell_type": "code",
   "execution_count": 8,
   "metadata": {},
   "outputs": [
    {
     "name": "stdout",
     "output_type": "stream",
     "text": [
      "Plot saved: /Users/yizu/Desktop/Five-Star/visuals/sentiment_by_category.png\n"
     ]
    },
    {
     "data": {
      "text/plain": [
       "<Figure size 1200x600 with 0 Axes>"
      ]
     },
     "metadata": {},
     "output_type": "display_data"
    }
   ],
   "source": [
    "input_path = \"../data/processed/final_sentiment_analysis_data.csv\"\n",
    "output_path = \"../visuals/sentiment_by_category.png\"\n",
    "analyze_sentiment_by_category(input_path, output_path)"
   ]
  },
  {
   "cell_type": "code",
   "execution_count": 9,
   "metadata": {},
   "outputs": [
    {
     "name": "stderr",
     "output_type": "stream",
     "text": [
      "/var/folders/j0/1n4wd1fn59j9xhmj3mjc6mfc0000gn/T/ipykernel_71058/2093499717.py:49: UserWarning: Tight layout not applied. The left and right margins cannot be made large enough to accommodate all Axes decorations.\n",
      "  plt.tight_layout()\n"
     ]
    },
    {
     "name": "stdout",
     "output_type": "stream",
     "text": [
      "\n",
      "Detailed Category Statistics:\n",
      "\n",
      "Categories with Highest Positive Sentiment Ratio:\n",
      "sentiment                                           negative  neutral  \\\n",
      "category                                                                \n",
      "Electronics|Computers & Accessories|Computer Ac...       0.0      0.0   \n",
      "Electronics|Computers & Accessories|Tablet Acce...       0.0      0.0   \n",
      "Electronics|Camera & Photo|Lighting & Studio|Li...       0.0      0.0   \n",
      "Electronics|Camera & Photo|Lighting & Studio|Li...       0.0      0.0   \n",
      "Electronics|Computers & Accessories|Networking ...       0.0      0.0   \n",
      "\n",
      "sentiment                                           positive  \n",
      "category                                                      \n",
      "Electronics|Computers & Accessories|Computer Ac...     100.0  \n",
      "Electronics|Computers & Accessories|Tablet Acce...     100.0  \n",
      "Electronics|Camera & Photo|Lighting & Studio|Li...     100.0  \n",
      "Electronics|Camera & Photo|Lighting & Studio|Li...     100.0  \n",
      "Electronics|Computers & Accessories|Networking ...     100.0  \n",
      "\n",
      "Categories with Lowest Positive Sentiment Ratio:\n",
      "sentiment                                           negative  neutral  \\\n",
      "category                                                                \n",
      "Electronics|Car & Vehicle Electronics                    0.0    100.0   \n",
      "Electronics|Portable Audio & Video|Cassette Pla...      50.0     50.0   \n",
      "Electronics|Computers & Accessories|Computer Ac...     100.0      0.0   \n",
      "Electronics|Accessories & Supplies|Audio & Vide...      50.0     50.0   \n",
      "Electronics|Computers & Accessories|Computer Ac...       0.0    100.0   \n",
      "\n",
      "sentiment                                           positive  \n",
      "category                                                      \n",
      "Electronics|Car & Vehicle Electronics                    0.0  \n",
      "Electronics|Portable Audio & Video|Cassette Pla...       0.0  \n",
      "Electronics|Computers & Accessories|Computer Ac...       0.0  \n",
      "Electronics|Accessories & Supplies|Audio & Vide...       0.0  \n",
      "Electronics|Computers & Accessories|Computer Ac...       0.0  \n"
     ]
    }
   ],
   "source": [
    "import pandas as pd\n",
    "import matplotlib.pyplot as plt\n",
    "\n",
    "\n",
    "def analyze_category_sentiment_ratio(input_file, output_file):\n",
    "    # Read the data\n",
    "    df = pd.read_csv(input_file)\n",
    "\n",
    "    # Set the style parameters manually\n",
    "    plt.rcParams['figure.figsize'] = (12, 8)\n",
    "    plt.rcParams['font.size'] = 10\n",
    "    plt.rcParams['axes.grid'] = True\n",
    "    plt.rcParams['grid.alpha'] = 0.3\n",
    "\n",
    "    # Calculate sentiment ratios by category\n",
    "    category_sentiment = pd.crosstab(\n",
    "        df['category'], df['sentiment'], normalize='index') * 100\n",
    "\n",
    "    # Sort by positive sentiment ratio\n",
    "    category_sentiment_sorted = category_sentiment.sort_values(\n",
    "        'positive', ascending=True)\n",
    "\n",
    "    # Create figure\n",
    "    fig, ax = plt.subplots()\n",
    "\n",
    "    # Create stacked bar chart\n",
    "    bars = category_sentiment_sorted.plot(\n",
    "        kind='barh',\n",
    "        stacked=True,\n",
    "        color=['#3498db', '#9b59b6', '#1abc9c'],\n",
    "        width=0.8,\n",
    "        ax=ax\n",
    "    )\n",
    "\n",
    "    # Customize the plot\n",
    "    ax.set_title('Sentiment Distribution by Product Category (%)', pad=20)\n",
    "    ax.set_xlabel('Percentage of Reviews')\n",
    "    ax.set_ylabel('Product Category')\n",
    "\n",
    "    # Add percentage labels on bars\n",
    "    for c in bars.containers:\n",
    "        # Add labels\n",
    "        ax.bar_label(c, fmt='%.1f%%', label_type='center')\n",
    "\n",
    "    # Add legend\n",
    "    ax.legend(title='Sentiment', bbox_to_anchor=(1.05, 1), loc='upper left')\n",
    "\n",
    "    # Adjust layout\n",
    "    plt.tight_layout()\n",
    "\n",
    "    # Save plot\n",
    "    plt.savefig(output_file, dpi=300, bbox_inches='tight')\n",
    "    plt.close()\n",
    "\n",
    "    # Print detailed statistics\n",
    "    print(\"\\nDetailed Category Statistics:\")\n",
    "    print(\"\\nCategories with Highest Positive Sentiment Ratio:\")\n",
    "    print(category_sentiment.sort_values(\n",
    "        'positive', ascending=False).head().round(2))\n",
    "\n",
    "    print(\"\\nCategories with Lowest Positive Sentiment Ratio:\")\n",
    "    print(category_sentiment.sort_values(\n",
    "        'positive', ascending=True).head().round(2))\n",
    "\n",
    "    # Calculate and plot review volume\n",
    "    volume_by_category = df['category'].value_counts()\n",
    "\n",
    "    # Create second figure for review volume\n",
    "    fig, ax = plt.subplots()\n",
    "\n",
    "    # Plot review volume\n",
    "    volume_by_category.plot(kind='barh', ax=ax)\n",
    "    ax.set_title('Number of Reviews by Category')\n",
    "    ax.set_xlabel('Number of Reviews')\n",
    "    ax.set_ylabel('Product Category')\n",
    "\n",
    "    # Save volume plot\n",
    "    plt.savefig(output_file.replace('.png', '_volume.png'),\n",
    "                dpi=300, bbox_inches='tight')\n",
    "    plt.close()\n",
    "\n",
    "    return {\n",
    "        'sentiment_ratios': category_sentiment,\n",
    "        'review_volumes': volume_by_category\n",
    "    }\n",
    "\n",
    "\n",
    "if __name__ == \"__main__\":\n",
    "    input_path = \"../data/processed/final_sentiment_analysis_data.csv\"\n",
    "    output_path = \"../data/visuals/category_sentiment_ratio.png\"\n",
    "    stats = analyze_category_sentiment_ratio(input_path, output_path)"
   ]
  }
 ],
 "metadata": {
  "kernelspec": {
   "display_name": "sa_env",
   "language": "python",
   "name": "python3"
  },
  "language_info": {
   "codemirror_mode": {
    "name": "ipython",
    "version": 3
   },
   "file_extension": ".py",
   "mimetype": "text/x-python",
   "name": "python",
   "nbconvert_exporter": "python",
   "pygments_lexer": "ipython3",
   "version": "3.9.20"
  }
 },
 "nbformat": 4,
 "nbformat_minor": 2
}
