{
 "cells": [
  {
   "cell_type": "markdown",
   "metadata": {},
   "source": [
    "queries to run\n",
    "-overall sentitiment analysis\n",
    "-categories (preprocessing) with positive, neutral, and negative percentile"
   ]
  },
  {
   "cell_type": "code",
   "execution_count": 9,
   "metadata": {},
   "outputs": [],
   "source": [
    "import pandas as pd\n",
    "import matplotlib.pyplot as plt\n",
    "import os\n",
    "\n",
    "\n",
    "def plot_sentiment_distribution(input_file, output_file):\n",
    "    os.makedirs(os.path.dirname(output_file), exist_ok=True)\n",
    "    \n",
    "    df = pd.read_csv(input_file)\n",
    "    sentiment_counts = df['sentiment'].value_counts()\n",
    "    total = len(df)\n",
    "    percentages = [count/total*100 for count in sentiment_counts]\n",
    "    labels = [f'{sentiment}\\n({percentage:.1f}%)' \n",
    "             for sentiment, percentage in zip(sentiment_counts.index, percentages)]\n",
    "    \n",
    "    colors = ['#3498db', '#9b59b6', '#1abc9c']\n",
    "\n",
    "    plt.figure(figsize=(8, 6))\n",
    "    plt.pie(sentiment_counts, \n",
    "           labels=labels,\n",
    "           colors=colors,\n",
    "           autopct='',\n",
    "           startangle=90)\n",
    "    \n",
    "    plt.title('Overall Sentiment Distribution of Reviews for Electronic Products', pad=20)\n",
    "    plt.axis('equal')\n",
    "    plt.text(0, -1.2, f'Total Reviews: {total:,}', \n",
    "             ha='center', va='center')\n",
    "    \n",
    "    plt.savefig(output_file, format='png', bbox_inches='tight', dpi=300)\n",
    "    plt.close()\n",
    "    \n",
    "    print(f\"\\nPlot saved: {output_file}\")"
   ]
  },
  {
   "cell_type": "code",
   "execution_count": 10,
   "metadata": {},
   "outputs": [
    {
     "name": "stdout",
     "output_type": "stream",
     "text": [
      "\n",
      "Plot saved: ../data/visuals/overall_sentiment_analysis.png\n"
     ]
    }
   ],
   "source": [
    "input_path = \"../data/processed/sentitiment_analysis_reviews_w_metadata.csv\"\n",
    "output_path = \"../data/visuals/overall_sentiment_analysis.png\"\n",
    "\n",
    "plot_sentiment_distribution(input_path, output_path)"
   ]
  },
  {
   "cell_type": "code",
   "execution_count": 14,
   "metadata": {},
   "outputs": [],
   "source": [
    "def plot_sentiment_by_rating(input_file, output_file):\n",
    "    try:\n",
    "        full_output_path = os.path.abspath(output_file)\n",
    "        os.makedirs(os.path.dirname(full_output_path), exist_ok=True)\n",
    "        \n",
    "        df = pd.read_csv(input_file)\n",
    "        ratings = sorted(df['overall'].unique())\n",
    "        \n",
    "        sentiments = ['positive', 'negative', 'neutral']\n",
    "        colors = ['#3498db', '#9b59b6', '#1abc9c']\n",
    "        \n",
    "        plt.figure(figsize=(10, 6))\n",
    "        bar_width = 0.25\n",
    "        \n",
    "        for idx, sentiment in enumerate(sentiments):\n",
    "            counts = [len(df[(df['overall'] == rating) & (df['sentiment'] == sentiment)]) for rating in ratings]\n",
    "            plt.bar([x + idx*bar_width for x in range(len(ratings))], counts, bar_width, \n",
    "                    label=sentiment, color=colors[idx])\n",
    "        \n",
    "        plt.title('Sentiment Distribution by Rating for Electronic Products', pad=20)\n",
    "        plt.xlabel('Rating Score')\n",
    "        plt.ylabel('Number of Reviews')\n",
    "        plt.legend()\n",
    "        \n",
    "        plt.xticks([x + bar_width for x in range(len(ratings))], ratings)\n",
    "        \n",
    "        plt.savefig(full_output_path, dpi=300, bbox_inches='tight')\n",
    "        plt.close()\n",
    "        \n",
    "        if os.path.exists(full_output_path):\n",
    "            print(f\"Plot successfully saved to: {full_output_path}\")\n",
    "        else:\n",
    "            print(\"Failed to save the plot\")\n",
    "            \n",
    "    except Exception as e:\n",
    "        print(f\"Error occurred: {str(e)}\")"
   ]
  },
  {
   "cell_type": "code",
   "execution_count": 15,
   "metadata": {},
   "outputs": [
    {
     "name": "stdout",
     "output_type": "stream",
     "text": [
      "Plot successfully saved to: c:\\Users\\nisht\\Desktop\\final_project_idmp\\Five-Star\\data\\visuals\\sentiment_by_rating.png\n"
     ]
    }
   ],
   "source": [
    "input_path = \"../data/processed/sentitiment_analysis_reviews_w_metadata.csv\"\n",
    "output_path = \"../data/visuals/sentiment_by_rating.png\"\n",
    "plot_sentiment_by_rating(input_path, output_path)"
   ]
  },
  {
   "cell_type": "code",
   "execution_count": 16,
   "metadata": {},
   "outputs": [],
   "source": [
    "def plot_average_rating_by_sentiment(input_file, output_file):\n",
    "    try:\n",
    "        full_output_path = os.path.abspath(output_file)\n",
    "        os.makedirs(os.path.dirname(full_output_path), exist_ok=True)\n",
    "        \n",
    "        df = pd.read_csv(input_file)\n",
    "        avg_rating = df.groupby('sentiment')['overall'].mean()\n",
    "        \n",
    "        plt.figure(figsize=(8, 6))\n",
    "        avg_rating.plot(kind='bar', color=['#3498db', '#9b59b6', '#1abc9c'])\n",
    "        \n",
    "        plt.title('Average Rating by Sentiment for Electronic Products', pad=20)\n",
    "        plt.xlabel('Sentiment')\n",
    "        plt.ylabel('Average Rating')\n",
    "        \n",
    "        plt.savefig(full_output_path, dpi=300, bbox_inches='tight')\n",
    "        plt.close()\n",
    "        \n",
    "        if os.path.exists(full_output_path):\n",
    "            print(f\"Plot successfully saved to: {full_output_path}\")\n",
    "        else:\n",
    "            print(\"Failed to save the plot\")\n",
    "            \n",
    "    except Exception as e:\n",
    "        print(f\"Error occurred: {str(e)}\")"
   ]
  },
  {
   "cell_type": "code",
   "execution_count": 17,
   "metadata": {},
   "outputs": [
    {
     "name": "stdout",
     "output_type": "stream",
     "text": [
      "Plot successfully saved to: c:\\Users\\nisht\\Desktop\\final_project_idmp\\Five-Star\\data\\visuals\\average_rating_by_sentiment.png\n"
     ]
    }
   ],
   "source": [
    "input_path = \"../data/processed/sentitiment_analysis_reviews_w_metadata.csv\"\n",
    "output_path = \"../data/visuals/average_rating_by_sentiment.png\"\n",
    "plot_average_rating_by_sentiment(input_path, output_path)"
   ]
  },
  {
   "cell_type": "code",
   "execution_count": 25,
   "metadata": {},
   "outputs": [],
   "source": [
    "def analyze_sentiment_by_category(input_file, output_file):\n",
    "    try:\n",
    "        full_output_path = os.path.abspath(output_file)\n",
    "        os.makedirs(os.path.dirname(full_output_path), exist_ok=True)\n",
    "        \n",
    "        df = pd.read_csv(input_file)\n",
    "        \n",
    "        def extract_second_category(category_string):\n",
    "            if pd.isna(category_string):\n",
    "                return 'Unknown'\n",
    "            categories = str(category_string).split('|')\n",
    "            return categories[1] if len(categories) > 1 else 'Unknown'\n",
    "        \n",
    "        df['main_category'] = df['category'].apply(extract_second_category)\n",
    "        \n",
    "        category_sentiment = pd.crosstab(df['main_category'], df['sentiment'], normalize='index') * 100\n",
    "        \n",
    "        plt.figure(figsize=(12, 6))\n",
    "        category_sentiment.plot(kind='bar', stacked=True, color=['#3498db', '#9b59b6', '#1abc9c'])\n",
    "        \n",
    "        plt.title('Sentiment Distribution by Product Category (%)', pad=20)\n",
    "        plt.xlabel('Product Category')\n",
    "        plt.ylabel('Percentage of Reviews')\n",
    "        plt.legend(title='Sentiment')\n",
    "        plt.xticks(rotation=45, ha='right')\n",
    "        plt.grid(True, linestyle='--', alpha=0.7)\n",
    "        \n",
    "        plt.tight_layout()\n",
    "        plt.savefig(full_output_path, dpi=300, bbox_inches='tight')\n",
    "        plt.close()\n",
    "        \n",
    "        if os.path.exists(full_output_path):\n",
    "            print(f\"Plot saved: {full_output_path}\")\n",
    "            \n",
    "    except Exception as e:\n",
    "        print(f\"Error occurred: {str(e)}\")"
   ]
  },
  {
   "cell_type": "code",
   "execution_count": 26,
   "metadata": {},
   "outputs": [
    {
     "name": "stdout",
     "output_type": "stream",
     "text": [
      "Plot saved: c:\\Users\\nisht\\Desktop\\final_project_idmp\\Five-Star\\visuals\\sentiment_by_category.png\n"
     ]
    },
    {
     "data": {
      "text/plain": [
       "<Figure size 1200x600 with 0 Axes>"
      ]
     },
     "metadata": {},
     "output_type": "display_data"
    }
   ],
   "source": [
    "input_path = \"../data/processed/sentitiment_analysis_reviews_w_metadata.csv\"\n",
    "output_path = \"../visuals/sentiment_by_category.png\"\n",
    "analyze_sentiment_by_category(input_path, output_path)"
   ]
  }
 ],
 "metadata": {
  "kernelspec": {
   "display_name": "base",
   "language": "python",
   "name": "python3"
  },
  "language_info": {
   "codemirror_mode": {
    "name": "ipython",
    "version": 3
   },
   "file_extension": ".py",
   "mimetype": "text/x-python",
   "name": "python",
   "nbconvert_exporter": "python",
   "pygments_lexer": "ipython3",
   "version": "3.10.9"
  }
 },
 "nbformat": 4,
 "nbformat_minor": 2
}
