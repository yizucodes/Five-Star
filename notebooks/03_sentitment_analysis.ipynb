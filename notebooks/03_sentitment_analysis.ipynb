{
 "cells": [
  {
   "cell_type": "code",
   "execution_count": 1,
   "metadata": {},
   "outputs": [
    {
     "ename": "ModuleNotFoundError",
     "evalue": "No module named 'pandas'",
     "output_type": "error",
     "traceback": [
      "\u001b[1;31m---------------------------------------------------------------------------\u001b[0m",
      "\u001b[1;31mModuleNotFoundError\u001b[0m                       Traceback (most recent call last)",
      "Cell \u001b[1;32mIn[1], line 1\u001b[0m\n\u001b[1;32m----> 1\u001b[0m \u001b[38;5;28;01mimport\u001b[39;00m \u001b[38;5;21;01mpandas\u001b[39;00m \u001b[38;5;28;01mas\u001b[39;00m \u001b[38;5;21;01mpd\u001b[39;00m\n\u001b[0;32m      2\u001b[0m \u001b[38;5;28;01mimport\u001b[39;00m \u001b[38;5;21;01mnumpy\u001b[39;00m \u001b[38;5;28;01mas\u001b[39;00m \u001b[38;5;21;01mnp\u001b[39;00m\n\u001b[0;32m      3\u001b[0m \u001b[38;5;28;01mfrom\u001b[39;00m \u001b[38;5;21;01mvaderSentiment\u001b[39;00m\u001b[38;5;21;01m.\u001b[39;00m\u001b[38;5;21;01mvaderSentiment\u001b[39;00m \u001b[38;5;28;01mimport\u001b[39;00m SentimentIntensityAnalyzer\n",
      "\u001b[1;31mModuleNotFoundError\u001b[0m: No module named 'pandas'"
     ]
    }
   ],
   "source": [
    "import pandas as pd\n",
    "import numpy as np\n",
    "from vaderSentiment.vaderSentiment import SentimentIntensityAnalyzer"
   ]
  },
  {
   "cell_type": "code",
   "execution_count": null,
   "metadata": {},
   "outputs": [],
   "source": [
    "#after we have completed with pre-processing\n",
    "\n",
    "def analyze_sentiment_vader(df, text_column='processed_text'):\n",
    "    \"\"\"\n",
    "    Analyze sentiment of reviews using VADER and add sentiment columns to dataframe\n",
    "    \n",
    "    Parameters:\n",
    "    df (pandas.DataFrame): Input dataframe with reviews\n",
    "    text_column (str): Name of column containing text to analyze\n",
    "    \n",
    "    Returns:\n",
    "    pandas.DataFrame: DataFrame with added sentiment columns\n",
    "    \"\"\"\n",
    "    # Initialize VADER sentiment analyzer\n",
    "    analyzer = SentimentIntensityAnalyzer()\n",
    "    \n",
    "    # Get sentiment scores\n",
    "    sentiment_scores = df[text_column].apply(analyzer.polarity_scores)\n",
    "    \n",
    "    # Add individual score components as new columns\n",
    "    df['sentiment_neg'] = sentiment_scores.apply(lambda x: x['neg'])\n",
    "    df['sentiment_neu'] = sentiment_scores.apply(lambda x: x['neu'])\n",
    "    df['sentiment_pos'] = sentiment_scores.apply(lambda x: x['pos'])\n",
    "    df['sentiment_compound'] = sentiment_scores.apply(lambda x: x['compound'])\n",
    "    \n",
    "    # Add categorical sentiment\n",
    "    def get_sentiment_category(compound_score):\n",
    "        if compound_score >= 0.05:\n",
    "            return 'positive'\n",
    "        elif compound_score <= -0.05:\n",
    "            return 'negative'\n",
    "        else:\n",
    "            return 'neutral'\n",
    "    \n",
    "    df['sentiment_category'] = df['sentiment_compound'].apply(get_sentiment_category)\n",
    "    \n",
    "    return df"
   ]
  }
 ],
 "metadata": {
  "kernelspec": {
   "display_name": "Python 3",
   "language": "python",
   "name": "python3"
  },
  "language_info": {
   "codemirror_mode": {
    "name": "ipython",
    "version": 3
   },
   "file_extension": ".py",
   "mimetype": "text/x-python",
   "name": "python",
   "nbconvert_exporter": "python",
   "pygments_lexer": "ipython3",
   "version": "3.11.1"
  }
 },
 "nbformat": 4,
 "nbformat_minor": 2
}
